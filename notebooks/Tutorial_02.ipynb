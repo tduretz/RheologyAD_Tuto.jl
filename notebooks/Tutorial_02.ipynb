{
 "cells": [
  {
   "cell_type": "code",
   "execution_count": 214,
   "id": "dfac2467",
   "metadata": {},
   "outputs": [],
   "source": [
    "using Enzyme"
   ]
  },
  {
   "cell_type": "markdown",
   "id": "0fab8f9b",
   "metadata": {},
   "source": [
    "## Linear elastic rheology 2D\n",
    "Two constant moduli: $K$ and $G$\n",
    "\n",
    "$$\n",
    "\\tau = D \\mathbf{\\varepsilon}\n",
    "$$\n",
    "\n",
    "$$\n",
    "\\mathbf{\\tau} = \\begin{pmatrix} \\tau_{xx} \\\\ \\tau_{yy} \\\\ \\tau_{xy} \\\\ P \\end{pmatrix}\n",
    "$$\n",
    "\n",
    "$$\n",
    "\\mathbf{\\varepsilon} = \\begin{pmatrix} \\varepsilon_{xx} \\\\ \\varepsilon_{yy} \\\\ \\varepsilon_{xy} \\\\ \\nabla u \\end{pmatrix}\n",
    "$$"
   ]
  },
  {
   "cell_type": "code",
   "execution_count": 215,
   "id": "0468f54a",
   "metadata": {},
   "outputs": [
    {
     "data": {
      "text/plain": [
       "Stress_Elastic (generic function with 1 method)"
      ]
     },
     "metadata": {},
     "output_type": "display_data"
    }
   ],
   "source": [
    "Stress_Elastic(ε, K, G) = [\n",
    "    2*G*ε[1],\n",
    "    2*G*ε[2],\n",
    "    2*G*ε[3],\n",
    "     -K*ε[4]\n",
    "]"
   ]
  },
  {
   "cell_type": "code",
   "execution_count": 216,
   "id": "a12eef7a",
   "metadata": {},
   "outputs": [
    {
     "data": {
      "text/plain": [
       "4-element Vector{Float64}:\n",
       " -1.0e7\n",
       "  1.0e7\n",
       "  0.0\n",
       " -1.0000000000000001e6"
      ]
     },
     "metadata": {},
     "output_type": "display_data"
    },
    {
     "data": {
      "text/plain": [
       "4×4 transpose(::Matrix{Float64}) with eltype Float64:\n",
       " 1.0e11  0.0     0.0      0.0\n",
       " 0.0     1.0e11  0.0      0.0\n",
       " 0.0     0.0     1.0e11   0.0\n",
       " 0.0     0.0     0.0     -1.0e11"
      ]
     },
     "metadata": {},
     "output_type": "display_data"
    }
   ],
   "source": [
    "ε = [-1e-4, 1e-4, 0., 1e-5]\n",
    "K, G = 1e11, 5e10\n",
    "J = Enzyme.jacobian(ReverseWithPrimal, Stress_Elastic, ε, K, G)\n",
    "display(J.val)\n",
    "display(J.derivs[1])"
   ]
  },
  {
   "cell_type": "markdown",
   "id": "1e429287",
   "metadata": {},
   "source": [
    "## Linear viscous rheology 2D\n",
    "A single modulus: $\\eta$\n",
    "\n",
    "$$\\tau = D \\mathbf{\\dot{\\varepsilon}}$$\n",
    "\n",
    "$$\n",
    "\\mathbf{\\tau} = \\begin{pmatrix} \\tau_{xx} \\\\ \\tau_{yy} \\\\ \\tau_{xy}\\end{pmatrix}\n",
    "$$\n",
    "\n",
    "$$\n",
    "\\mathbf{\\varepsilon} = \\begin{pmatrix} \\varepsilon_{xx} \\\\ \\varepsilon_{yy} \\\\ \\varepsilon_{xy} \\end{pmatrix}\n",
    "$$"
   ]
  },
  {
   "cell_type": "markdown",
   "id": "427932c4",
   "metadata": {},
   "source": []
  },
  {
   "cell_type": "code",
   "execution_count": 217,
   "id": "46805a3c",
   "metadata": {},
   "outputs": [
    {
     "data": {
      "text/plain": [
       "Stress_Viscous (generic function with 1 method)"
      ]
     },
     "metadata": {},
     "output_type": "display_data"
    }
   ],
   "source": [
    "Stress_Viscous(ε̇, η) = [\n",
    "    2*η*ε̇[1],\n",
    "    2*η*ε̇[2],\n",
    "    2*η*ε̇[3]\n",
    "]"
   ]
  },
  {
   "cell_type": "code",
   "execution_count": 218,
   "id": "3ab6fd16",
   "metadata": {},
   "outputs": [
    {
     "data": {
      "text/plain": [
       "3-element Vector{Float64}:\n",
       " -2.0e7\n",
       "  2.0e7\n",
       "  2.0e6"
      ]
     },
     "metadata": {},
     "output_type": "display_data"
    },
    {
     "data": {
      "text/plain": [
       "3×3 transpose(::Matrix{Float64}) with eltype Float64:\n",
       " 2.0e22  0.0     0.0\n",
       " 0.0     2.0e22  0.0\n",
       " 0.0     0.0     2.0e22"
      ]
     },
     "metadata": {},
     "output_type": "display_data"
    }
   ],
   "source": [
    "ε̇ = [-1e-15, 1e-15, 1e-16]\n",
    "η = 1e22\n",
    "J = Enzyme.jacobian(ReverseWithPrimal, Stress_Viscous, ε̇, η)\n",
    "display(J.val)\n",
    "display(J.derivs[1])"
   ]
  },
  {
   "cell_type": "markdown",
   "id": "604adbd5",
   "metadata": {},
   "source": [
    "## Power-law viscous rheology 2D\n",
    "\n",
    "Deviatoric strain rate invariant: $\\dot{\\varepsilon}_{II} = \\sqrt{\\frac{1}{2} \\dot{\\varepsilon}' \\dot{\\varepsilon} }$\n",
    "\n",
    "Effective isotropic power-law viscosity: $\\eta_\\text{eff} = \\eta_0 \\dot{\\varepsilon}_{II}^{\\frac{1}{n} - 1}$\n",
    "\n"
   ]
  },
  {
   "cell_type": "code",
   "execution_count": 219,
   "id": "979ceb54",
   "metadata": {},
   "outputs": [
    {
     "data": {
      "text/plain": [
       "Stress_PowerLawViscous (generic function with 1 method)"
      ]
     },
     "metadata": {},
     "output_type": "display_data"
    }
   ],
   "source": [
    "function Stress_PowerLawViscous(ε̇, η0, n)\n",
    "    \n",
    "    ε̇II   = sqrt(1/2*(ε̇[1]^2 + ε̇[2]^2) + ε̇[3]^2)\n",
    "\n",
    "    η_eff = η0 * ε̇II^(1/n-1)\n",
    "\n",
    "    return [\n",
    "        2*η_eff*ε̇[1],\n",
    "        2*η_eff*ε̇[2],\n",
    "        2*η_eff*ε̇[3]\n",
    "    ]\n",
    "end"
   ]
  },
  {
   "cell_type": "code",
   "execution_count": 220,
   "id": "67f26840",
   "metadata": {},
   "outputs": [
    {
     "data": {
      "text/plain": [
       "3-element Vector{Float64}:\n",
       " -1.993377434954683e7\n",
       "  1.993377434954683e7\n",
       "  1.9933774349546828e6"
      ]
     },
     "metadata": {},
     "output_type": "display_data"
    },
    {
     "data": {
      "text/plain": [
       "3×3 transpose(::Matrix{Float64}) with eltype Float64:\n",
       " 1.3355e22   6.5788e21   1.31576e21\n",
       " 6.5788e21   1.3355e22  -1.31576e21\n",
       " 6.5788e20  -6.5788e20   1.98022e22"
      ]
     },
     "metadata": {},
     "output_type": "display_data"
    }
   ],
   "source": [
    "ε̇ = [-1e-15, 1e-15, 1e-16]\n",
    "η0, n = 1e12, 3.0\n",
    "J = Enzyme.jacobian(ReverseWithPrimal, Stress_PowerLawViscous, ε̇, η0, n)\n",
    "display(J.val)\n",
    "display(J.derivs[1])"
   ]
  },
  {
   "cell_type": "markdown",
   "id": "fcfe46ed",
   "metadata": {},
   "source": [
    "## Elasto-plasticity 2D - incremental form\n",
    "\n",
    "*Predictor-corrector scheme*\n",
    "\n",
    "Trial state\n",
    "$$\n",
    "\\tau = \\tau^0 + D \\mathbf{\\delta \\varepsilon}\n",
    "$$\n",
    "\n",
    "Corrected state:\n",
    "$$\n",
    "\\tau = \\tau^0 + D \\left( \\mathbf{\\delta \\varepsilon - \\delta \\varepsilon^\\textrm{p}} \\right)\n",
    "$$\n",
    "\n",
    "\n",
    "*Drucker-Prager model*\n",
    "\n",
    "Yield function: $F = \\tau_{II} - C\\cos{\\phi} - P\\sin{\\phi}$\n",
    "\n",
    "Flow potential: $Q = \\tau_{II} - C\\cos{\\psi} - P\\sin{\\psi}$\n",
    "\n",
    "Plastic strain increment:  $\\delta \\varepsilon^\\textrm{p} = \\lambda \\frac{\\partial Q}{\\partial \\mathbf{\\tau}}$ "
   ]
  },
  {
   "cell_type": "code",
   "execution_count": 221,
   "id": "5554cf19",
   "metadata": {},
   "outputs": [
    {
     "data": {
      "text/plain": [
       "Stress_ElastoPlastic (generic function with 1 method)"
      ]
     },
     "metadata": {},
     "output_type": "display_data"
    }
   ],
   "source": [
    "function Stress_ElastoPlastic( Δε, τ0, K, G, C, ϕ, ψ)\n",
    "\n",
    "    # Plastic mutilpler\n",
    "    λ = 0.0\n",
    "\n",
    "    # Elastic trial state\n",
    "    τ = [ \n",
    "        τ0[1] + 2*G*Δε[1],\n",
    "        τ0[2] + 2*G*Δε[2],\n",
    "        τ0[3] + 2*G*Δε[3],\n",
    "        τ0[4] -   K*Δε[4]\n",
    "    ]\n",
    "\n",
    "    # Yield function\n",
    "    τII = sqrt(1/2*(τ[1]^2 + τ[2]^2) + τ[3]^2)\n",
    "    P   = τ[4]\n",
    "    F   = τII - C*cosd(ϕ) - P*sind(ϕ)\n",
    "\n",
    "    if F>0\n",
    "        λ = F/(G + K*sind(ψ)*sind(ϕ)) \n",
    "    end\n",
    "\n",
    "     # Plastic strains\n",
    "    Δεp = [ \n",
    "        λ * τ[1]/2/τII,\n",
    "        λ * τ[2]/2/τII,\n",
    "        λ * τ[3]/1/τII,\n",
    "        λ * sind(ψ),\n",
    "    ]\n",
    "\n",
    "    # Corrected stress\n",
    "    τ = [ \n",
    "        τ0[1] + 2*G*(Δε[1] - Δεp[1]  ),\n",
    "        τ0[2] + 2*G*(Δε[2] - Δεp[2]  ),\n",
    "        τ0[3] + 2*G*(Δε[3] - Δεp[3]/2),\n",
    "        τ0[4] -   K*(Δε[4] - Δεp[4]  )\n",
    "    ]\n",
    "\n",
    "    τII = sqrt(1/2*(τ[1]^2 + τ[2]^2) + τ[3]^2)\n",
    "    P   = τ[4]\n",
    "    Fc   = τII - C*cosd(ϕ) - P*sind(ϕ)\n",
    "\n",
    "    # @show F, Fc\n",
    "\n",
    "return τ\n",
    "end"
   ]
  },
  {
   "cell_type": "markdown",
   "id": "a283053d",
   "metadata": {},
   "source": [
    "### First, let's try the elastic limit"
   ]
  },
  {
   "cell_type": "code",
   "execution_count": 222,
   "id": "213124f4",
   "metadata": {},
   "outputs": [
    {
     "data": {
      "text/plain": [
       "4-element Vector{Float64}:\n",
       "  4.0e7\n",
       " -4.0e7\n",
       " -1.0000000000000001e6\n",
       "  9.9e7"
      ]
     },
     "metadata": {},
     "output_type": "display_data"
    },
    {
     "data": {
      "text/plain": [
       "4×4 transpose(::Matrix{Float64}) with eltype Float64:\n",
       " 1.0e11  0.0     0.0      0.0\n",
       " 0.0     1.0e11  0.0      0.0\n",
       " 0.0     0.0     1.0e11   0.0\n",
       " 0.0     0.0     0.0     -1.0e11"
      ]
     },
     "metadata": {},
     "output_type": "display_data"
    }
   ],
   "source": [
    "ε    = [-1e-4, 1e-4, -1e-5, 1e-5]\n",
    "τ0   = [5e7, -5e7, 0.0, 1e8]\n",
    "K, G = 1e11, 5e10\n",
    "C    = 1e7\n",
    "ϕ, ψ = 35.0, 10.0\n",
    "\n",
    "J = Enzyme.jacobian(ReverseWithPrimal, Stress_ElastoPlastic, ε, τ0, K, G, C, ϕ, ψ)\n",
    "\n",
    "display(J.val)\n",
    "\n",
    "display(J.derivs[1])"
   ]
  },
  {
   "cell_type": "markdown",
   "id": "c7110b53",
   "metadata": {},
   "source": [
    "### Second, we change the pre-loading to reach the plastic limit"
   ]
  },
  {
   "cell_type": "code",
   "execution_count": 223,
   "id": "e4433278",
   "metadata": {},
   "outputs": [
    {
     "data": {
      "text/plain": [
       "4-element Vector{Float64}:\n",
       "       1.3473139154521637e7\n",
       "      -1.3473139154521637e7\n",
       " -336828.47886304086\n",
       "       9.21556060353881e6"
      ]
     },
     "metadata": {},
     "output_type": "display_data"
    },
    {
     "data": {
      "text/plain": [
       "4×4 transpose(::Matrix{Float64}) with eltype Float64:\n",
       " 2.51523e10   8.53052e9    4.26526e8   -4.78149e10\n",
       " 8.53052e9    2.51523e10  -4.26526e8    4.78149e10\n",
       " 2.13263e8   -2.13263e8    3.36722e10   1.19537e9\n",
       " 1.44758e10  -1.44758e10  -7.2379e8    -8.33889e10"
      ]
     },
     "metadata": {},
     "output_type": "display_data"
    }
   ],
   "source": [
    "τ0   = [5e7, -5e7, 0.0, 1e6]\n",
    "\n",
    "J = Enzyme.jacobian(ReverseWithPrimal, Stress_ElastoPlastic, ε, τ0, K, G, C, ϕ, ψ)\n",
    "\n",
    "display(J.val)\n",
    "\n",
    "display(J.derivs[1])"
   ]
  }
 ],
 "metadata": {
  "kernelspec": {
   "display_name": "Julia 1.11.6",
   "language": "julia",
   "name": "julia-1.11"
  },
  "language_info": {
   "file_extension": ".jl",
   "mimetype": "application/julia",
   "name": "julia",
   "version": "1.11.6"
  }
 },
 "nbformat": 4,
 "nbformat_minor": 5
}
