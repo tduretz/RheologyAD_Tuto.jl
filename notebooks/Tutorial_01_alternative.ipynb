{
 "cells": [
  {
   "cell_type": "code",
   "execution_count": 12,
   "id": "7c661f1f",
   "metadata": {},
   "outputs": [],
   "source": [
    "using DifferentiationInterface\n",
    "using Enzyme: Enzyme"
   ]
  },
  {
   "cell_type": "markdown",
   "id": "8f3fd783",
   "metadata": {},
   "source": [
    "## 1. Let's define a linear vector function\n",
    "$$\n",
    "\\mathbf{f}(\\mathbf{x}) = \\mathbf{x} \n",
    "$$\n",
    "\n",
    "where \n",
    "$$\n",
    "\\mathbf{x} = \\begin{pmatrix} x \\\\ y \\end{pmatrix}\n",
    "$$"
   ]
  },
  {
   "cell_type": "code",
   "execution_count": 13,
   "id": "16fed3f2",
   "metadata": {},
   "outputs": [
    {
     "data": {
      "text/plain": [
       "f (generic function with 1 method)"
      ]
     },
     "metadata": {},
     "output_type": "display_data"
    }
   ],
   "source": [
    "f(x) = [x[1], x[2]]  "
   ]
  },
  {
   "cell_type": "markdown",
   "id": "9eaea1fc",
   "metadata": {},
   "source": [
    "#### Let's evaluate $\\mathbf{f}$ at $\\mathbf{x} = [1, 4]$ \n"
   ]
  },
  {
   "cell_type": "code",
   "execution_count": 14,
   "id": "ab464bc9",
   "metadata": {},
   "outputs": [
    {
     "data": {
      "text/plain": [
       "2-element Vector{Float64}:\n",
       " 1.0\n",
       " 4.0"
      ]
     },
     "metadata": {},
     "output_type": "display_data"
    }
   ],
   "source": [
    "x = [1.0, 4.0]\n",
    "f(x)"
   ]
  },
  {
   "cell_type": "markdown",
   "id": "79f8b41f",
   "metadata": {},
   "source": [
    "#### Let's evaluate $\\frac{\\partial \\mathbf{f}} {\\partial \\mathbf{x}}$ at $\\mathbf{x} = [1, 4]$ \n"
   ]
  },
  {
   "cell_type": "code",
   "execution_count": 15,
   "id": "57503443",
   "metadata": {},
   "outputs": [
    {
     "data": {
      "text/plain": [
       "2×2 Matrix{Float64}:\n",
       " 1.0  0.0\n",
       " 0.0  1.0"
      ]
     },
     "metadata": {},
     "output_type": "display_data"
    }
   ],
   "source": [
    "J = jacobian(f, AutoEnzyme(), x)\n",
    "display(J)"
   ]
  },
  {
   "cell_type": "markdown",
   "id": "4cab0235",
   "metadata": {},
   "source": [
    "## 2. Let's define a non-linear vector function\n",
    "$$\n",
    "\\mathbf{g}(\\mathbf{x}) = \\begin{pmatrix} xy + x^2 \\\\ x + y^3 + z + 1 \\\\ z^4 + z*y \\end{pmatrix}\n",
    "$$\n",
    "\n",
    "where \n",
    "$$\n",
    "\\mathbf{x} = \\begin{pmatrix} x \\\\ y \\\\ z \\end{pmatrix}\n",
    "$$"
   ]
  },
  {
   "cell_type": "code",
   "execution_count": 16,
   "id": "99224b8c",
   "metadata": {},
   "outputs": [
    {
     "data": {
      "text/plain": [
       "g (generic function with 1 method)"
      ]
     },
     "metadata": {},
     "output_type": "display_data"
    }
   ],
   "source": [
    "g(x) = [x[1]*x[2] + x[1]^2, \n",
    "        x[1] + x[2]^3 + x[3] + 1,  \n",
    "        x[3]^4 + x[3]*x[2]]  "
   ]
  },
  {
   "cell_type": "markdown",
   "id": "444e6a28",
   "metadata": {},
   "source": [
    "#### Let's evaluate $\\mathbf{g}$ at $\\mathbf{x} = [2, 4, 7]$ "
   ]
  },
  {
   "cell_type": "code",
   "execution_count": 17,
   "id": "8b1ed833",
   "metadata": {},
   "outputs": [
    {
     "data": {
      "text/plain": [
       "3-element Vector{Float64}:\n",
       "   12.0\n",
       "   74.0\n",
       " 2429.0"
      ]
     },
     "metadata": {},
     "output_type": "display_data"
    }
   ],
   "source": [
    "x = [2.0, 4.0, 7.0]\n",
    "g(x)"
   ]
  },
  {
   "cell_type": "markdown",
   "id": "77d5e0aa",
   "metadata": {},
   "source": [
    "#### Let's evaluate $\\frac{\\partial \\mathbf{g}} {\\partial \\mathbf{x}}$ at $\\mathbf{x} = [2, 4, 7]$ \n"
   ]
  },
  {
   "cell_type": "code",
   "execution_count": 18,
   "id": "b15b0f9f",
   "metadata": {},
   "outputs": [
    {
     "data": {
      "text/plain": [
       "3×3 Matrix{Float64}:\n",
       " 8.0   2.0     0.0\n",
       " 1.0  48.0     1.0\n",
       " 0.0   7.0  1376.0"
      ]
     },
     "metadata": {},
     "output_type": "display_data"
    }
   ],
   "source": [
    "J = jacobian(g, AutoEnzyme(), x)\n",
    "display(J)"
   ]
  },
  {
   "cell_type": "markdown",
   "id": "e473baa8",
   "metadata": {},
   "source": [
    "## 3. Function with parameters\n",
    "\n",
    "$$\n",
    "\\mathbf{g}(\\mathbf{x}, \\mathbf{p}) = \\begin{pmatrix} axy + x^2 \\\\ bx + y^3 + z + 1 \\\\ z^4 + z*y + c \\end{pmatrix}\n",
    "$$\n",
    "\n",
    "where \n",
    "$$\n",
    "\\mathbf{x} = \\begin{pmatrix} x \\\\ y \\\\ z \\end{pmatrix}\n",
    "$$\n",
    "and \n",
    "$$\n",
    "\\mathbf{p} = \\begin{pmatrix} a \\\\ b \\\\ c \\end{pmatrix}\n",
    "$$"
   ]
  },
  {
   "cell_type": "code",
   "execution_count": 19,
   "id": "1e5bc026",
   "metadata": {},
   "outputs": [
    {
     "data": {
      "text/plain": [
       "h (generic function with 1 method)"
      ]
     },
     "metadata": {},
     "output_type": "display_data"
    }
   ],
   "source": [
    "h(x, p) = [p[1]*x[1]*x[2] .+ x[1]^2, \n",
    "           p[2]x[1] + x[2]^3 + x[3] + 1,  \n",
    "           x[3]^4 + x[3]*x[2] + p[3]]  "
   ]
  },
  {
   "cell_type": "markdown",
   "id": "d5b49e11",
   "metadata": {},
   "source": [
    "#### Let's evaluate $\\mathbf{g}$ at $\\mathbf{x} = [2, 4, 7]$ and $\\mathbf{p} = [5, 6, 8]$"
   ]
  },
  {
   "cell_type": "code",
   "execution_count": 20,
   "id": "53f7713e",
   "metadata": {},
   "outputs": [
    {
     "data": {
      "text/plain": [
       "3-element Vector{Float64}:\n",
       "   44.0\n",
       "   84.0\n",
       " 2437.0"
      ]
     },
     "metadata": {},
     "output_type": "display_data"
    }
   ],
   "source": [
    "x = [2.0, 4.0, 7.0]\n",
    "p = [5.0, 6.0, 8.0]\n",
    "h(x, p)"
   ]
  },
  {
   "cell_type": "markdown",
   "id": "c4533b98",
   "metadata": {},
   "source": [
    "#### Let's evaluate $\\frac{\\partial \\mathbf{h}} {\\partial \\mathbf{x}}$ and $\\mathbf{h}(\\mathbf{x}, \\mathbf{p})$ at the same time"
   ]
  },
  {
   "cell_type": "code",
   "execution_count": 21,
   "id": "060afa83",
   "metadata": {},
   "outputs": [
    {
     "data": {
      "text/plain": [
       "3-element Vector{Float64}:\n",
       "   44.0\n",
       "   84.0\n",
       " 2437.0"
      ]
     },
     "metadata": {},
     "output_type": "display_data"
    },
    {
     "data": {
      "text/plain": [
       "3×3 Matrix{Float64}:\n",
       " 24.0  10.0     0.0\n",
       "  6.0  48.0     1.0\n",
       "  0.0   7.0  1376.0"
      ]
     },
     "metadata": {},
     "output_type": "display_data"
    }
   ],
   "source": [
    "v, J = value_and_jacobian(x -> h(x,p), AutoEnzyme(), x)\n",
    "\n",
    "# The Jacobian (.deriv[...])\n",
    "display(v)\n",
    "\n",
    "# The function (.val[...])\n",
    "display(J)"
   ]
  },
  {
   "cell_type": "markdown",
   "id": "544a4e95",
   "metadata": {},
   "source": [
    "#### And the derivatives with regard to the parameter array?"
   ]
  },
  {
   "cell_type": "code",
   "execution_count": 22,
   "id": "aa431de8",
   "metadata": {},
   "outputs": [
    {
     "data": {
      "text/plain": [
       "3×3 Matrix{Float64}:\n",
       " 8.0  0.0  0.0\n",
       " 0.0  2.0  0.0\n",
       " 0.0  0.0  1.0"
      ]
     },
     "metadata": {},
     "output_type": "display_data"
    }
   ],
   "source": [
    "J = jacobian(p->h(x,p), AutoEnzyme(), p)\n",
    "display(J)"
   ]
  },
  {
   "cell_type": "markdown",
   "id": "1a3695f2",
   "metadata": {},
   "source": [
    "# Switching the AD engine\n",
    "\n",
    "`DifferentiationInterface.jl` provides a common interface to several AD engines. For example, to use `ForwardDiff.jl` instead of `Enzyme.jl`, you would just need to load the package and change the AD type in the function calls."
   ]
  },
  {
   "cell_type": "code",
   "execution_count": 24,
   "id": "1e4ad2a1",
   "metadata": {},
   "outputs": [
    {
     "name": "stderr",
     "output_type": "stream",
     "text": [
      "\u001b[33m\u001b[1m┌ \u001b[22m\u001b[39m\u001b[33m\u001b[1mWarning: \u001b[22m\u001b[39mModule Enzyme with build ID fafbfcfd-2001-74e9-1458-ee7fefcbb2ac is missing from the cache.\n",
      "\u001b[33m\u001b[1m│ \u001b[22m\u001b[39mThis may mean Enzyme [7da242da-08ed-463a-9acd-ee780be4f1d9] does not support precompilation but is imported by a module that does.\n",
      "\u001b[33m\u001b[1m└ \u001b[22m\u001b[39m\u001b[90m@ Base loading.jl:2541\u001b[39m\n",
      "\u001b[33m\u001b[1m┌ \u001b[22m\u001b[39m\u001b[33m\u001b[1mWarning: \u001b[22m\u001b[39mModule Enzyme with build ID fafbfcfd-2001-74e9-1458-ee7fefcbb2ac is missing from the cache.\n",
      "\u001b[33m\u001b[1m│ \u001b[22m\u001b[39mThis may mean Enzyme [7da242da-08ed-463a-9acd-ee780be4f1d9] does not support precompilation but is imported by a module that does.\n",
      "\u001b[33m\u001b[1m└ \u001b[22m\u001b[39m\u001b[90m@ Base loading.jl:2541\u001b[39m\n"
     ]
    }
   ],
   "source": [
    "using ForwardDiff: ForwardDiff"
   ]
  },
  {
   "cell_type": "code",
   "execution_count": null,
   "id": "cb55e9f2",
   "metadata": {},
   "outputs": [
    {
     "data": {
      "text/plain": [
       "24.0"
      ]
     },
     "metadata": {},
     "output_type": "display_data"
    },
    {
     "data": {
      "text/plain": [
       "6.0"
      ]
     },
     "metadata": {},
     "output_type": "display_data"
    }
   ],
   "source": [
    "v, J = value_and_jacobian(x -> h(x,p), AutoForwardDiff(), x)\n",
    "display(v)\n",
    "\n",
    "display(J)"
   ]
  }
 ],
 "metadata": {
  "kernelspec": {
   "display_name": "Julia 1.11.7",
   "language": "julia",
   "name": "julia-1.11"
  },
  "language_info": {
   "file_extension": ".jl",
   "mimetype": "application/julia",
   "name": "julia",
   "version": "1.11.7"
  }
 },
 "nbformat": 4,
 "nbformat_minor": 5
}
